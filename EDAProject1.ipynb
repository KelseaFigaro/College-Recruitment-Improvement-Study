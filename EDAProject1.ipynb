{
 "cells": [
  {
   "cell_type": "markdown",
   "id": "f8b84200-c588-40e1-8abc-e1289777e7fb",
   "metadata": {},
   "source": [
    "# Kelsea Figaro\n",
    "10/3/25"
   ]
  },
  {
   "cell_type": "markdown",
   "id": "16f33f4d-8dc1-43c9-914e-018de79a31c1",
   "metadata": {},
   "source": [
    "## import pandas, read in the csv file, and create the data from"
   ]
  },
  {
   "cell_type": "code",
   "execution_count": 2,
   "id": "61a9682f-7be5-4b88-b47a-d5f549b4f0b3",
   "metadata": {},
   "outputs": [],
   "source": [
    "import pandas as pd"
   ]
  },
  {
   "cell_type": "code",
   "execution_count": 3,
   "id": "91a1fd42-f022-4490-ab50-88a8e3309336",
   "metadata": {},
   "outputs": [],
   "source": [
    "df= pd.read_csv('Majors2024.csv')"
   ]
  },
  {
   "cell_type": "markdown",
   "id": "07530daf-69d9-48ed-a765-bd100a20c6b8",
   "metadata": {},
   "source": [
    "### Intro to data"
   ]
  },
  {
   "cell_type": "code",
   "execution_count": null,
   "id": "929ec420-2747-4785-b67f-0e9927adafac",
   "metadata": {
    "scrolled": true
   },
   "outputs": [],
   "source": [
    "df.info()"
   ]
  },
  {
   "cell_type": "code",
   "execution_count": null,
   "id": "3be9878e-38b6-464a-8ea6-8f02d465c06b",
   "metadata": {},
   "outputs": [],
   "source": [
    "df.head(5)"
   ]
  },
  {
   "cell_type": "code",
   "execution_count": null,
   "id": "705c5ff5-1859-47db-99f5-91d1edbc6420",
   "metadata": {},
   "outputs": [],
   "source": [
    "df.tail()"
   ]
  },
  {
   "cell_type": "code",
   "execution_count": null,
   "id": "eefe3d10-a8ef-415e-834d-e17e7707c26b",
   "metadata": {},
   "outputs": [],
   "source": [
    "df.sample()"
   ]
  },
  {
   "cell_type": "code",
   "execution_count": null,
   "id": "27d05f21-c6ce-49bd-9602-7dc02bc9dab1",
   "metadata": {},
   "outputs": [],
   "source": [
    "df.describe()"
   ]
  },
  {
   "cell_type": "code",
   "execution_count": null,
   "id": "03dbe984-5b46-449c-b4e1-8f81cc412176",
   "metadata": {},
   "outputs": [],
   "source": [
    "df.shape"
   ]
  },
  {
   "cell_type": "code",
   "execution_count": null,
   "id": "8252dddb-4eb0-47b9-a757-e16cd4475e35",
   "metadata": {
    "scrolled": true
   },
   "outputs": [],
   "source": [
    "df.dtypes"
   ]
  },
  {
   "cell_type": "code",
   "execution_count": 71,
   "id": "8d29409a-1c84-4045-a326-7716120bb4dc",
   "metadata": {},
   "outputs": [
    {
     "data": {
      "text/plain": [
       "Index(['Timestamp', 'Which course are you enrolled in?',\n",
       "       'How did you hear about County College of Morris? [CCM Web site]',\n",
       "       'How did you hear about County College of Morris? [Social Media]',\n",
       "       'How did you hear about County College of Morris? [Community Event]',\n",
       "       'How did you hear about County College of Morris? [Family member or friend]',\n",
       "       'How did you hear about County College of Morris? [Current CCM student]',\n",
       "       'How did you hear about County College of Morris? [CCM Alumni]',\n",
       "       'How did you hear about County College of Morris? [High School Teacher]',\n",
       "       'How did you hear about County College of Morris? [High School Counselor]',\n",
       "       'How did you hear about County College of Morris? [In-app advertisement]',\n",
       "       'How did you hear about County College of Morris? [Employer]',\n",
       "       'How did you hear about County College of Morris? [Billboard]',\n",
       "       'How did you hear about County College of Morris? [Television]',\n",
       "       'How did you hear about County College of Morris? [Radio]',\n",
       "       'How did you hear about County College of Morris? [Other]',\n",
       "       'To what extent did the following impact your decision to attend County College of Morris? [Affordable cost]',\n",
       "       'To what extent did the following impact your decision to attend County College of Morris? [Location/convenience]',\n",
       "       'To what extent did the following impact your decision to attend County College of Morris? [Choice of programs]',\n",
       "       'To what extent did the following impact your decision to attend County College of Morris? [Online offerings]',\n",
       "       'To what extent did the following impact your decision to attend County College of Morris? [Family/friend referral]',\n",
       "       'To what extent did the following impact your decision to attend County College of Morris? [Faculty/staff]',\n",
       "       'To what extent did the following impact your decision to attend County College of Morris? [College reputation]',\n",
       "       'To what extent did the following impact your decision to attend County College of Morris? [Financial Aid]',\n",
       "       'To what extent did the following impact your decision to attend County College of Morris? [Scholarships]',\n",
       "       'To what extent did the following impact your decision to attend County College of Morris? [Small class sizes]',\n",
       "       'To what extent did the following impact your decision to attend County College of Morris? [Extra-curricular opportunities]',\n",
       "       'To what extent did the following impact your decision to attend County College of Morris? [Accepted my transfer credits]',\n",
       "       'To what extent did the following impact your decision to attend County College of Morris? [Negative experience at another college]',\n",
       "       'To what extent did the following impact your decision to attend County College of Morris? [NJ Stars Program]',\n",
       "       'To what extent did the following impact your decision to attend County College of Morris? [Ability to transfer CCM credits to a 4-year school]',\n",
       "       'To what extent did the following impact your decision to attend County College of Morris? [Get college credit while in high school]',\n",
       "       'open_house', 'instant_decision', 'campus_session', 'titans_tuesday',\n",
       "       'women_dare', 'college_fair', 'share_time', 'challenger_program',\n",
       "       'cs_program', 'highschool_session', 'high_school_campus',\n",
       "       'campus_individual', 'workforce_devlopment', 'corporate_training',\n",
       "       'teen_arts_fest', 'summer_camp',\n",
       "       'To what extent did the following activities or experience impact your decision to enroll in an computing course at CCM? [Middle/High school computing class]',\n",
       "       'To what extent did the following activities or experience impact your decision to enroll in an computing course at CCM? [Middle/High school computing related club]',\n",
       "       'To what extent did the following activities or experience impact your decision to enroll in an computing course at CCM? [Computing-related competitions (e.g., Robotics competition, Lego competition, Cybersecurity, Programming)]',\n",
       "       'To what extent did the following activities or experience impact your decision to enroll in an computing course at CCM? [Afterschool computing-related camp/program]',\n",
       "       'To what extent did the following activities or experience impact your decision to enroll in an computing course at CCM? [Summer computing related camp/program]',\n",
       "       'To what extent did the following activities or experience impact your decision to enroll in an computing course at CCM? [An AP computing class]',\n",
       "       'To what extent did the following activities or experience impact your decision to enroll in an computing course at CCM? [A dual enrollment computing class]',\n",
       "       'To what extent did the following activities or experience impact your decision to enroll in an computing course at CCM? [Family or friend influence]',\n",
       "       'To what extent did the following activities or experience impact your decision to enroll in an computing course at CCM? [Family or friend working in the computing field]',\n",
       "       'To what extent did the following activities or experience impact your decision to enroll in an computing course at CCM? [High school teacher or guidance counselor]',\n",
       "       'To what extent did the following activities or experience impact your decision to enroll in an computing course at CCM? [Employer influence]',\n",
       "       'To what extent did the following activities or experience impact your decision to enroll in an computing course at CCM? [Current CCM student]',\n",
       "       'To what extent did the following activities or experience impact your decision to enroll in an computing course at CCM? [Experience at work]',\n",
       "       'To what extent did the following activities or experience impact your decision to enroll in an computing course at CCM? [Other]',\n",
       "       'What degree program are you currently enrolled in?',\n",
       "       'What motivated you to seek a computing degree/certificate at CCM?  [To get a job in the computing field]',\n",
       "       'What motivated you to seek a computing degree/certificate at CCM?  [Transfer to bachelors level program]',\n",
       "       'What motivated you to seek a computing degree/certificate at CCM?  [Transfer credits back to HS degree (ShareTime, Challenger Program)]',\n",
       "       'What motivated you to seek a computing degree/certificate at CCM?  [Career Advancement]',\n",
       "       'What motivated you to seek a computing degree/certificate at CCM?  [Career Change]',\n",
       "       'What motivated you to seek a computing degree/certificate at CCM?  [Professional Development]',\n",
       "       'What motivated you to seek a computing degree/certificate at CCM?  [Job Displacement]',\n",
       "       'What motivated you to seek a computing degree/certificate at CCM?  [Relocation]',\n",
       "       'What motivated you to seek a computing degree/certificate at CCM?  [To keep current in tech industry]',\n",
       "       'What motivated you to seek a computing degree/certificate at CCM?  [IT Industry Certifications]',\n",
       "       'What motivated you to seek a computing degree/certificate at CCM?  [Financial]',\n",
       "       'What motivated you to seek a computing degree/certificate at CCM?  [Personal Enrichment]',\n",
       "       'Did you receive information about the CCM computing programs from any of the following sources? [High school guidance counselor]',\n",
       "       'hs_teacher', 'website', 'admissions', 'advisor', 'employer',\n",
       "       'workforce_devlopment', 'nj_workforce', 'other', 'major',\n",
       "       'On a scale of 1 to 5, with 1 being not at all interested and 5 being extremely interested, how interested are you in taking more computing classes?',\n",
       "       'Please explain your answer to the question above.  Why or why not would you be interested in taking another computing class?',\n",
       "       'Gender', 'Race/ethnicity', 'Age '],\n",
       "      dtype='object')"
      ]
     },
     "execution_count": 71,
     "metadata": {},
     "output_type": "execute_result"
    }
   ],
   "source": [
    "df.columns"
   ]
  },
  {
   "cell_type": "markdown",
   "id": "4a721639-d87d-4086-9307-14e805048986",
   "metadata": {},
   "source": [
    "### Rename the columns being used for the study. This saves time and less typing"
   ]
  },
  {
   "cell_type": "code",
   "execution_count": 4,
   "id": "fc35158e-8e6a-4c64-b698-9f86aa658972",
   "metadata": {},
   "outputs": [],
   "source": [
    "df.rename(columns={'Prior to applying to college, did you participate in any of the following events or activities at the County College of Morris and/or with the Department of Information Technologies, if at all? [Regional College Fair]':'college_fair'}, inplace=True)"
   ]
  },
  {
   "cell_type": "code",
   "execution_count": 5,
   "id": "64ca6180-45ce-4526-a336-c5cfedd83559",
   "metadata": {},
   "outputs": [],
   "source": [
    "df.rename(columns={'Prior to applying to college, did you participate in any of the following events or activities at the County College of Morris and/or with the Department of Information Technologies, if at all? [Open House]':'open_house'}, inplace=True)\n"
   ]
  },
  {
   "cell_type": "code",
   "execution_count": 6,
   "id": "6ab38867-a352-48ff-99ae-a26d96ace3b0",
   "metadata": {},
   "outputs": [],
   "source": [
    "df.rename(columns={'Prior to applying to college, did you participate in any of the following events or activities at the County College of Morris and/or with the Department of Information Technologies, if at all? [Titans Tuesday (Virtual) Information Session]':'titans_tuesday'}, inplace=True)\n"
   ]
  },
  {
   "cell_type": "code",
   "execution_count": 7,
   "id": "47d99801-a15a-4c6e-8cdd-816e0a802ee6",
   "metadata": {},
   "outputs": [],
   "source": [
    "df.rename(columns={'Prior to applying to college, did you participate in any of the following events or activities at the County College of Morris and/or with the Department of Information Technologies, if at all? [Instant Decision Day]':'instant_decision'}, inplace=True)\n"
   ]
  },
  {
   "cell_type": "code",
   "execution_count": 8,
   "id": "763ea2d4-700f-4473-ac39-1a448eea09e7",
   "metadata": {},
   "outputs": [],
   "source": [
    "df.rename(columns={'Prior to applying to college, did you participate in any of the following events or activities at the County College of Morris and/or with the Department of Information Technologies, if at all? [On-Campus Information Session]':'campus_session'}, inplace=True)\n"
   ]
  },
  {
   "cell_type": "code",
   "execution_count": 9,
   "id": "d1f978e8-3aee-4c9c-8952-e2912e8cce8c",
   "metadata": {},
   "outputs": [],
   "source": [
    "df.rename(columns={'Prior to applying to college, did you participate in any of the following events or activities at the County College of Morris and/or with the Department of Information Technologies, if at all? [Women Who Dare]':'women_dare'}, inplace=True)\n"
   ]
  },
  {
   "cell_type": "code",
   "execution_count": 10,
   "id": "bc608e2a-c17c-42c7-b096-6b5dc6545c2d",
   "metadata": {},
   "outputs": [],
   "source": [
    "df.rename(columns={'Prior to applying to college, did you participate in any of the following events or activities at the County College of Morris and/or with the Department of Information Technologies, if at all? [HS Sharetime Information Session]':'share_time'}, inplace=True)\n"
   ]
  },
  {
   "cell_type": "code",
   "execution_count": 11,
   "id": "d90722bb-2850-4768-aa9f-7d6c367c0317",
   "metadata": {},
   "outputs": [],
   "source": [
    "df.rename(columns={'Prior to applying to college, did you participate in any of the following events or activities at the County College of Morris and/or with the Department of Information Technologies, if at all? [Challenger Program]':'challenger_program'}, inplace=True)\n"
   ]
  },
  {
   "cell_type": "code",
   "execution_count": 12,
   "id": "3b04d2e6-1d5c-4af0-8b87-b23f5bb9b4e0",
   "metadata": {},
   "outputs": [],
   "source": [
    "df.rename(columns={'Prior to applying to college, did you participate in any of the following events or activities at the County College of Morris and/or with the Department of Information Technologies, if at all? [CyberSecurity Information Protection Program Participation ]':'cs_program'}, inplace=True)\n"
   ]
  },
  {
   "cell_type": "code",
   "execution_count": 13,
   "id": "7282536e-7c85-4c4b-bc41-6c8d02aeb07c",
   "metadata": {},
   "outputs": [],
   "source": [
    "df.rename(columns={'Prior to applying to college, did you participate in any of the following events or activities at the County College of Morris and/or with the Department of Information Technologies, if at all? [Information Session at my high school]':'highschool_session'}, inplace=True)\n"
   ]
  },
  {
   "cell_type": "code",
   "execution_count": 14,
   "id": "c5cbc5d1-5f60-42b2-a30c-ef0a06832912",
   "metadata": {},
   "outputs": [],
   "source": [
    "df.rename(columns={'Prior to applying to college, did you participate in any of the following events or activities at the County College of Morris and/or with the Department of Information Technologies, if at all? [Campus Visit with my high school]':'high_school_campus'}, inplace=True)\n"
   ]
  },
  {
   "cell_type": "code",
   "execution_count": 15,
   "id": "fb2fe1ec-9728-4b87-b6b5-c6bc6f83bfef",
   "metadata": {},
   "outputs": [],
   "source": [
    "df.rename(columns={'Prior to applying to college, did you participate in any of the following events or activities at the County College of Morris and/or with the Department of Information Technologies, if at all? [Campus Visit (individual)]':'campus_individual'}, inplace=True)\n"
   ]
  },
  {
   "cell_type": "code",
   "execution_count": 16,
   "id": "a98ae31d-f86f-4080-bfbc-6945ce74d534",
   "metadata": {},
   "outputs": [],
   "source": [
    "df.rename(columns={'Prior to applying to college, did you participate in any of the following events or activities at the County College of Morris and/or with the Department of Information Technologies, if at all? [Workforce Development class]':'workforce_devlopment'}, inplace=True)\n"
   ]
  },
  {
   "cell_type": "code",
   "execution_count": 17,
   "id": "2432261a-756a-4a2d-82b5-1d9b94447aee",
   "metadata": {},
   "outputs": [],
   "source": [
    "df.rename(columns={'Prior to applying to college, did you participate in any of the following events or activities at the County College of Morris and/or with the Department of Information Technologies, if at all? [Corporate Training]':'corporate_training'}, inplace=True)\n"
   ]
  },
  {
   "cell_type": "code",
   "execution_count": 18,
   "id": "a9bf85eb-0e54-4903-8953-5cdb1dee1dec",
   "metadata": {},
   "outputs": [],
   "source": [
    "df.rename(columns={'Prior to applying to college, did you participate in any of the following events or activities at the County College of Morris and/or with the Department of Information Technologies, if at all? [Teen Arts Festival]':'teen_arts_fest'}, inplace=True)\n"
   ]
  },
  {
   "cell_type": "code",
   "execution_count": 19,
   "id": "3ad507da-a803-4fd8-972f-d1f5b43750cc",
   "metadata": {},
   "outputs": [],
   "source": [
    "df.rename(columns={'Prior to applying to college, did you participate in any of the following events or activities at the County College of Morris and/or with the Department of Information Technologies, if at all? [Summer camp at CCM]':'summer_camp'}, inplace=True)\n"
   ]
  },
  {
   "cell_type": "code",
   "execution_count": 20,
   "id": "fecff8d0-91d0-4050-a461-042e51576cfb",
   "metadata": {},
   "outputs": [],
   "source": [
    "df.rename(columns={'Did you receive information about the CCM computing programs from any of the following sources? [High School Teacher]':'hs_teacher'}, inplace=True)"
   ]
  },
  {
   "cell_type": "code",
   "execution_count": 21,
   "id": "21ea5427-b869-4c0c-a603-2e4dab3b879a",
   "metadata": {},
   "outputs": [],
   "source": [
    "df.rename(columns={'Did you receive information about the CCM computing programs from any of the following sources? [CCM Information Technologies Website]':'website'}, inplace=True)"
   ]
  },
  {
   "cell_type": "code",
   "execution_count": 22,
   "id": "56d672d8-8fb0-4250-99ba-907dd182d3ac",
   "metadata": {},
   "outputs": [],
   "source": [
    "df.rename(columns={'Did you receive information about the CCM computing programs from any of the following sources? [CCM Admissions]':'admissions'}, inplace=True)"
   ]
  },
  {
   "cell_type": "code",
   "execution_count": 23,
   "id": "add64623-10f7-49b9-9874-176a07bb0649",
   "metadata": {},
   "outputs": [],
   "source": [
    "df.rename(columns={'Did you receive information about the CCM computing programs from any of the following sources? [CCM advisor/counselor]':'advisor'}, inplace=True)"
   ]
  },
  {
   "cell_type": "code",
   "execution_count": 24,
   "id": "f599c8c0-e186-4034-993a-849053560d8a",
   "metadata": {},
   "outputs": [],
   "source": [
    "df.rename(columns={'Did you receive information about the CCM computing programs from any of the following sources? [Employer]':'employer'}, inplace=True)"
   ]
  },
  {
   "cell_type": "code",
   "execution_count": 25,
   "id": "57fa7af2-1569-495b-80cb-e5b237e2319c",
   "metadata": {},
   "outputs": [],
   "source": [
    "df.rename(columns={'Did you receive information about the CCM computing programs from any of the following sources? [CCM Workforce Development]':'workforce_devlopment'}, inplace=True)"
   ]
  },
  {
   "cell_type": "code",
   "execution_count": 26,
   "id": "322d358c-2d75-4689-980c-1c79853f875c",
   "metadata": {},
   "outputs": [],
   "source": [
    "df.rename(columns={'Did you receive information about the CCM computing programs from any of the following sources? [NJ Workforce Development Program]':'nj_workforce'}, inplace=True)"
   ]
  },
  {
   "cell_type": "code",
   "execution_count": 27,
   "id": "12211954-f38f-4318-9e79-7da1aaca67b6",
   "metadata": {},
   "outputs": [],
   "source": [
    "df.rename(columns={'Did you receive information about the CCM computing programs from any of the following sources? [Other]':'other'}, inplace=True)"
   ]
  },
  {
   "cell_type": "code",
   "execution_count": 28,
   "id": "f2a6f97c-fa9d-4fe5-9ba9-5e8155bf98c9",
   "metadata": {},
   "outputs": [],
   "source": [
    "df.rename(columns={'Was a computing major/certificate your first choice, or did you change majors from a different CCM program? If you changed majors, indicate what your first major was.':'major'}, inplace=True)"
   ]
  },
  {
   "cell_type": "markdown",
   "id": "db76aa8e-f167-4205-b15f-c893b3594f79",
   "metadata": {},
   "source": [
    "# The issue cell is below"
   ]
  },
  {
   "cell_type": "code",
   "execution_count": 30,
   "id": "56a3c37c-355a-474b-b03e-25feef5121d3",
   "metadata": {},
   "outputs": [],
   "source": [
    "df.rename(columns={'What motivated you to seek a computing degree/certificate at CCM? [To get a job in the computing field]':'job'}, inplace=True)"
   ]
  },
  {
   "cell_type": "code",
   "execution_count": 31,
   "id": "afc2f0b9-dc51-4bdd-a3f2-b3c6daea0069",
   "metadata": {},
   "outputs": [
    {
     "data": {
      "text/plain": [
       "Index(['Timestamp', 'Which course are you enrolled in?',\n",
       "       'How did you hear about County College of Morris? [CCM Web site]',\n",
       "       'How did you hear about County College of Morris? [Social Media]',\n",
       "       'How did you hear about County College of Morris? [Community Event]',\n",
       "       'How did you hear about County College of Morris? [Family member or friend]',\n",
       "       'How did you hear about County College of Morris? [Current CCM student]',\n",
       "       'How did you hear about County College of Morris? [CCM Alumni]',\n",
       "       'How did you hear about County College of Morris? [High School Teacher]',\n",
       "       'How did you hear about County College of Morris? [High School Counselor]',\n",
       "       'How did you hear about County College of Morris? [In-app advertisement]',\n",
       "       'How did you hear about County College of Morris? [Employer]',\n",
       "       'How did you hear about County College of Morris? [Billboard]',\n",
       "       'How did you hear about County College of Morris? [Television]',\n",
       "       'How did you hear about County College of Morris? [Radio]',\n",
       "       'How did you hear about County College of Morris? [Other]',\n",
       "       'To what extent did the following impact your decision to attend County College of Morris? [Affordable cost]',\n",
       "       'To what extent did the following impact your decision to attend County College of Morris? [Location/convenience]',\n",
       "       'To what extent did the following impact your decision to attend County College of Morris? [Choice of programs]',\n",
       "       'To what extent did the following impact your decision to attend County College of Morris? [Online offerings]',\n",
       "       'To what extent did the following impact your decision to attend County College of Morris? [Family/friend referral]',\n",
       "       'To what extent did the following impact your decision to attend County College of Morris? [Faculty/staff]',\n",
       "       'To what extent did the following impact your decision to attend County College of Morris? [College reputation]',\n",
       "       'To what extent did the following impact your decision to attend County College of Morris? [Financial Aid]',\n",
       "       'To what extent did the following impact your decision to attend County College of Morris? [Scholarships]',\n",
       "       'To what extent did the following impact your decision to attend County College of Morris? [Small class sizes]',\n",
       "       'To what extent did the following impact your decision to attend County College of Morris? [Extra-curricular opportunities]',\n",
       "       'To what extent did the following impact your decision to attend County College of Morris? [Accepted my transfer credits]',\n",
       "       'To what extent did the following impact your decision to attend County College of Morris? [Negative experience at another college]',\n",
       "       'To what extent did the following impact your decision to attend County College of Morris? [NJ Stars Program]',\n",
       "       'To what extent did the following impact your decision to attend County College of Morris? [Ability to transfer CCM credits to a 4-year school]',\n",
       "       'To what extent did the following impact your decision to attend County College of Morris? [Get college credit while in high school]',\n",
       "       'open_house', 'instant_decision', 'campus_session', 'titans_tuesday',\n",
       "       'women_dare', 'college_fair', 'share_time', 'challenger_program',\n",
       "       'cs_program', 'highschool_session', 'high_school_campus',\n",
       "       'campus_individual', 'workforce_devlopment', 'corporate_training',\n",
       "       'teen_arts_fest', 'summer_camp',\n",
       "       'To what extent did the following activities or experience impact your decision to enroll in an computing course at CCM? [Middle/High school computing class]',\n",
       "       'To what extent did the following activities or experience impact your decision to enroll in an computing course at CCM? [Middle/High school computing related club]',\n",
       "       'To what extent did the following activities or experience impact your decision to enroll in an computing course at CCM? [Computing-related competitions (e.g., Robotics competition, Lego competition, Cybersecurity, Programming)]',\n",
       "       'To what extent did the following activities or experience impact your decision to enroll in an computing course at CCM? [Afterschool computing-related camp/program]',\n",
       "       'To what extent did the following activities or experience impact your decision to enroll in an computing course at CCM? [Summer computing related camp/program]',\n",
       "       'To what extent did the following activities or experience impact your decision to enroll in an computing course at CCM? [An AP computing class]',\n",
       "       'To what extent did the following activities or experience impact your decision to enroll in an computing course at CCM? [A dual enrollment computing class]',\n",
       "       'To what extent did the following activities or experience impact your decision to enroll in an computing course at CCM? [Family or friend influence]',\n",
       "       'To what extent did the following activities or experience impact your decision to enroll in an computing course at CCM? [Family or friend working in the computing field]',\n",
       "       'To what extent did the following activities or experience impact your decision to enroll in an computing course at CCM? [High school teacher or guidance counselor]',\n",
       "       'To what extent did the following activities or experience impact your decision to enroll in an computing course at CCM? [Employer influence]',\n",
       "       'To what extent did the following activities or experience impact your decision to enroll in an computing course at CCM? [Current CCM student]',\n",
       "       'To what extent did the following activities or experience impact your decision to enroll in an computing course at CCM? [Experience at work]',\n",
       "       'To what extent did the following activities or experience impact your decision to enroll in an computing course at CCM? [Other]',\n",
       "       'What degree program are you currently enrolled in?',\n",
       "       'What motivated you to seek a computing degree/certificate at CCM?  [To get a job in the computing field]',\n",
       "       'What motivated you to seek a computing degree/certificate at CCM?  [Transfer to bachelors level program]',\n",
       "       'What motivated you to seek a computing degree/certificate at CCM?  [Transfer credits back to HS degree (ShareTime, Challenger Program)]',\n",
       "       'What motivated you to seek a computing degree/certificate at CCM?  [Career Advancement]',\n",
       "       'What motivated you to seek a computing degree/certificate at CCM?  [Career Change]',\n",
       "       'What motivated you to seek a computing degree/certificate at CCM?  [Professional Development]',\n",
       "       'What motivated you to seek a computing degree/certificate at CCM?  [Job Displacement]',\n",
       "       'What motivated you to seek a computing degree/certificate at CCM?  [Relocation]',\n",
       "       'What motivated you to seek a computing degree/certificate at CCM?  [To keep current in tech industry]',\n",
       "       'What motivated you to seek a computing degree/certificate at CCM?  [IT Industry Certifications]',\n",
       "       'What motivated you to seek a computing degree/certificate at CCM?  [Financial]',\n",
       "       'What motivated you to seek a computing degree/certificate at CCM?  [Personal Enrichment]',\n",
       "       'Did you receive information about the CCM computing programs from any of the following sources? [High school guidance counselor]',\n",
       "       'hs_teacher', 'website', 'admissions', 'advisor', 'employer',\n",
       "       'workforce_devlopment', 'nj_workforce', 'other', 'major',\n",
       "       'On a scale of 1 to 5, with 1 being not at all interested and 5 being extremely interested, how interested are you in taking more computing classes?',\n",
       "       'Please explain your answer to the question above.  Why or why not would you be interested in taking another computing class?',\n",
       "       'Gender', 'Race/ethnicity', 'Age '],\n",
       "      dtype='object')"
      ]
     },
     "execution_count": 31,
     "metadata": {},
     "output_type": "execute_result"
    }
   ],
   "source": [
    "df.columns"
   ]
  },
  {
   "cell_type": "markdown",
   "id": "6e1d77a7-5bc5-4694-828a-837410463344",
   "metadata": {},
   "source": [
    "# clean the variable major to fix errors"
   ]
  },
  {
   "cell_type": "markdown",
   "id": "40dcb5a4-35dc-4a57-920b-2a95c2875113",
   "metadata": {},
   "source": [
    "### This changes any oddities in the students responses"
   ]
  },
  {
   "cell_type": "code",
   "execution_count": 33,
   "id": "95fb752a-7eed-4b6c-92ce-b5728ac8f206",
   "metadata": {},
   "outputs": [
    {
     "data": {
      "text/plain": [
       "array([nan, 'First Choice', 'Business', 'Engineering', 'Cybersecurity',\n",
       "       'Data Analytics and Statistics', 'Nursing', 'Computer science',\n",
       "       'Nursing/Radiology', 'Science', 'LIberal Arts', 'Biology',\n",
       "       'Exercise Science', 'Art', 'i’m a senior in high school',\n",
       "       'Journalism', 'Physical Therapy',\n",
       "       'I did not change to any other major.', \"Major didn't change\",\n",
       "       'I have a bachelors in Criminal Justice and came back to add an IT AS and cybersecurity certificate'],\n",
       "      dtype=object)"
      ]
     },
     "execution_count": 33,
     "metadata": {},
     "output_type": "execute_result"
    }
   ],
   "source": [
    "df.major.unique()"
   ]
  },
  {
   "cell_type": "code",
   "execution_count": 37,
   "id": "c2922a28-4a93-4181-803e-bee3913c4009",
   "metadata": {},
   "outputs": [],
   "source": [
    "df['major']=df['major'].replace('LIberal Arts','Liberal Arts')"
   ]
  },
  {
   "cell_type": "code",
   "execution_count": 40,
   "id": "2f448f58-20bb-4c87-a4f2-04160a7023c7",
   "metadata": {},
   "outputs": [],
   "source": [
    "df['major']=df['major'].replace(\"Major didn't change\", 'First Choice')"
   ]
  },
  {
   "cell_type": "code",
   "execution_count": 47,
   "id": "0c6fd9d2-7b2e-46d4-bd3c-10b4163473b1",
   "metadata": {},
   "outputs": [],
   "source": [
    "df['major']=df['major'].replace('I did not change to any other major.', 'First Choice')"
   ]
  },
  {
   "cell_type": "code",
   "execution_count": 60,
   "id": "86de688b-50dc-48a9-b893-4564c4fbc482",
   "metadata": {},
   "outputs": [],
   "source": [
    "df['major']=df['major'].replace('I have a bachelors in Criminal Justice and came back to add an IT AS and cybersecurity certificate','Criminal Justice')"
   ]
  },
  {
   "cell_type": "code",
   "execution_count": 67,
   "id": "f416b43f-2ba4-4cae-8cd5-534f6c8b5ef3",
   "metadata": {},
   "outputs": [],
   "source": [
    "df['major']=df['major'].replace(\"i'm a senior in high school\",\"High School Senior\")"
   ]
  },
  {
   "cell_type": "code",
   "execution_count": 68,
   "id": "1ee80c82-1503-42e2-9620-fa29550f537f",
   "metadata": {},
   "outputs": [
    {
     "data": {
      "text/plain": [
       "array([nan, 'First Choice', 'Business', 'Engineering', 'Cybersecurity',\n",
       "       'Data Analytics and Statistics', 'Nursing', 'Computer science',\n",
       "       'Nursing/Radiology', 'Science', 'Liberal Arts', 'Biology',\n",
       "       'Exercise Science', 'Art', 'i’m a senior in high school',\n",
       "       'Journalism', 'Physical Therapy', 'Criminal Justice'], dtype=object)"
      ]
     },
     "execution_count": 68,
     "metadata": {},
     "output_type": "execute_result"
    }
   ],
   "source": [
    "df.major.unique()"
   ]
  },
  {
   "cell_type": "markdown",
   "id": "c014f32c-3370-429f-b194-b9fe6a1e76b8",
   "metadata": {},
   "source": [
    "### I couldn't figure out how to do this based on the power point slide so I used chatgpt with the prompt \"in a column called major change the value LIberal Arts to Liberal Arts in python\". Then followed that for the rest of the changes"
   ]
  },
  {
   "cell_type": "markdown",
   "id": "f6dea2dc-60c3-4b25-a3f8-d2ce4202d3a6",
   "metadata": {},
   "source": [
    "# Merge all of the renamed columns in a new data frame. "
   ]
  },
  {
   "cell_type": "markdown",
   "id": "96da08fa-8bde-4c6d-b156-b632a79efbbc",
   "metadata": {},
   "source": [
    "### This focuses on the data we need to anwer our questions. I also created a events and sources data frame to group the responses of each question in the survey together"
   ]
  },
  {
   "cell_type": "code",
   "execution_count": 69,
   "id": "898af3ad-00a2-4b38-a152-abfa93090571",
   "metadata": {},
   "outputs": [],
   "source": [
    "df2=[['open_house','instant_decision','campus_session','titans_tuesday','women_dare','college_fair','share_time','challenger_program', 'cs_program','high_school_session','high_school_campus','campus_indiviudal','workforce_devlopment','corporate_training','teen_arts_fest','summer_camp','hs_teacher','website','admissions','advisor','employer','workforce_development','nj_workforce','other','major']]"
   ]
  },
  {
   "cell_type": "code",
   "execution_count": 70,
   "id": "e54b2a45-3414-44ad-a3ce-d848344aa22f",
   "metadata": {},
   "outputs": [
    {
     "data": {
      "text/plain": [
       "[['open_house',\n",
       "  'instant_decision',\n",
       "  'campus_session',\n",
       "  'titans_tuesday',\n",
       "  'women_dare',\n",
       "  'college_fair',\n",
       "  'share_time',\n",
       "  'challenger_program',\n",
       "  'cs_program',\n",
       "  'high_school_session',\n",
       "  'high_school_campus',\n",
       "  'campus_indiviudal',\n",
       "  'workforce_devlopment',\n",
       "  'corporate_training',\n",
       "  'teen_arts_fest',\n",
       "  'summer_camp',\n",
       "  'hs_teacher',\n",
       "  'website',\n",
       "  'admissions',\n",
       "  'advisor',\n",
       "  'employer',\n",
       "  'workforce_development',\n",
       "  'nj_workforce',\n",
       "  'other',\n",
       "  'major']]"
      ]
     },
     "execution_count": 70,
     "metadata": {},
     "output_type": "execute_result"
    }
   ],
   "source": [
    "df2"
   ]
  },
  {
   "cell_type": "code",
   "execution_count": 72,
   "id": "83091056-2434-4bfd-bc91-b61fa5857331",
   "metadata": {},
   "outputs": [],
   "source": [
    "events=[['open_house','instant_decision','campus_session','titans_tuesday','women_dare','college_fair','share_time','challenger_program', 'cs_program','high_school_session','high_school_campus','campus_indiviudal','workforce_devlopment','corporate_training','teen_arts_fest','summer_camp']]"
   ]
  },
  {
   "cell_type": "code",
   "execution_count": 73,
   "id": "7ca72965-c17a-4b28-a66c-ce983c9cd683",
   "metadata": {},
   "outputs": [
    {
     "data": {
      "text/plain": [
       "[['open_house',\n",
       "  'instant_decision',\n",
       "  'campus_session',\n",
       "  'titans_tuesday',\n",
       "  'women_dare',\n",
       "  'college_fair',\n",
       "  'share_time',\n",
       "  'challenger_program',\n",
       "  'cs_program',\n",
       "  'high_school_session',\n",
       "  'high_school_campus',\n",
       "  'campus_indiviudal',\n",
       "  'workforce_devlopment',\n",
       "  'corporate_training',\n",
       "  'teen_arts_fest',\n",
       "  'summer_camp']]"
      ]
     },
     "execution_count": 73,
     "metadata": {},
     "output_type": "execute_result"
    }
   ],
   "source": [
    "events"
   ]
  },
  {
   "cell_type": "code",
   "execution_count": 74,
   "id": "43008c81-f135-480b-9c43-04da4216fe3b",
   "metadata": {},
   "outputs": [],
   "source": [
    "sources=[['hs_teacher','website','admissions','advisor','employer','workforce_development','nj_workforce','other']]"
   ]
  },
  {
   "cell_type": "code",
   "execution_count": 75,
   "id": "fa208468-7805-44f4-a726-1c18f4845702",
   "metadata": {},
   "outputs": [
    {
     "data": {
      "text/plain": [
       "[['hs_teacher',\n",
       "  'website',\n",
       "  'admissions',\n",
       "  'advisor',\n",
       "  'employer',\n",
       "  'workforce_development',\n",
       "  'nj_workforce',\n",
       "  'other']]"
      ]
     },
     "execution_count": 75,
     "metadata": {},
     "output_type": "execute_result"
    }
   ],
   "source": [
    "sources"
   ]
  },
  {
   "cell_type": "markdown",
   "id": "2b514938-eae7-4307-accf-e3da94bec4ea",
   "metadata": {},
   "source": [
    "# Save df2 into a new csv file. However I can't get this to work"
   ]
  },
  {
   "cell_type": "code",
   "execution_count": 80,
   "id": "b975daf9-1515-480e-b820-6913c616c2e1",
   "metadata": {},
   "outputs": [
    {
     "ename": "AttributeError",
     "evalue": "'list' object has no attribute 'to_csv'",
     "output_type": "error",
     "traceback": [
      "\u001b[1;31m---------------------------------------------------------------------------\u001b[0m",
      "\u001b[1;31mAttributeError\u001b[0m                            Traceback (most recent call last)",
      "Cell \u001b[1;32mIn[80], line 1\u001b[0m\n\u001b[1;32m----> 1\u001b[0m df2\u001b[38;5;241m.\u001b[39mto_csv(\u001b[38;5;124m'\u001b[39m\u001b[38;5;124mMajorsClean.csv\u001b[39m\u001b[38;5;124m'\u001b[39m,index\u001b[38;5;241m=\u001b[39m\u001b[38;5;28;01mFalse\u001b[39;00m)\n",
      "\u001b[1;31mAttributeError\u001b[0m: 'list' object has no attribute 'to_csv'"
     ]
    }
   ],
   "source": [
    "df2.to_csv('MajorsClean.csv',index=False)"
   ]
  },
  {
   "cell_type": "code",
   "execution_count": null,
   "id": "d65ee14c-6811-47ef-ad2c-b1e38e2fe551",
   "metadata": {},
   "outputs": [],
   "source": []
  }
 ],
 "metadata": {
  "kernelspec": {
   "display_name": "Python [conda env:base] *",
   "language": "python",
   "name": "conda-base-py"
  },
  "language_info": {
   "codemirror_mode": {
    "name": "ipython",
    "version": 3
   },
   "file_extension": ".py",
   "mimetype": "text/x-python",
   "name": "python",
   "nbconvert_exporter": "python",
   "pygments_lexer": "ipython3",
   "version": "3.13.5"
  }
 },
 "nbformat": 4,
 "nbformat_minor": 5
}
